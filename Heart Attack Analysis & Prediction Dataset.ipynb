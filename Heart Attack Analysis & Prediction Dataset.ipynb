{
 "cells": [
  {
   "cell_type": "markdown",
   "metadata": {},
   "source": [
    "# Heart Attack Analysis & Prediction Dataset\n",
    "\n",
    "dataset https://www.kaggle.com/rashikrahmanpritom/heart-attack-analysis-prediction-dataset?select=heart.csv"
   ]
  },
  {
   "cell_type": "code",
   "execution_count": 199,
   "metadata": {},
   "outputs": [],
   "source": [
    "import numpy as np\n",
    "import pandas as pd\n",
    "import matplotlib.pyplot as plt\n",
    "%matplotlib inline"
   ]
  },
  {
   "cell_type": "code",
   "execution_count": 200,
   "metadata": {},
   "outputs": [
    {
     "data": {
      "text/html": [
       "<div>\n",
       "<style scoped>\n",
       "    .dataframe tbody tr th:only-of-type {\n",
       "        vertical-align: middle;\n",
       "    }\n",
       "\n",
       "    .dataframe tbody tr th {\n",
       "        vertical-align: top;\n",
       "    }\n",
       "\n",
       "    .dataframe thead th {\n",
       "        text-align: right;\n",
       "    }\n",
       "</style>\n",
       "<table border=\"1\" class=\"dataframe\">\n",
       "  <thead>\n",
       "    <tr style=\"text-align: right;\">\n",
       "      <th></th>\n",
       "      <th>age</th>\n",
       "      <th>sex</th>\n",
       "      <th>cp</th>\n",
       "      <th>trtbps</th>\n",
       "      <th>chol</th>\n",
       "      <th>fbs</th>\n",
       "      <th>restecg</th>\n",
       "      <th>thalachh</th>\n",
       "      <th>exng</th>\n",
       "      <th>oldpeak</th>\n",
       "      <th>slp</th>\n",
       "      <th>caa</th>\n",
       "      <th>thall</th>\n",
       "      <th>output</th>\n",
       "    </tr>\n",
       "  </thead>\n",
       "  <tbody>\n",
       "    <tr>\n",
       "      <th>0</th>\n",
       "      <td>63</td>\n",
       "      <td>1</td>\n",
       "      <td>3</td>\n",
       "      <td>145</td>\n",
       "      <td>233</td>\n",
       "      <td>1</td>\n",
       "      <td>0</td>\n",
       "      <td>150</td>\n",
       "      <td>0</td>\n",
       "      <td>2.3</td>\n",
       "      <td>0</td>\n",
       "      <td>0</td>\n",
       "      <td>1</td>\n",
       "      <td>1</td>\n",
       "    </tr>\n",
       "    <tr>\n",
       "      <th>1</th>\n",
       "      <td>37</td>\n",
       "      <td>1</td>\n",
       "      <td>2</td>\n",
       "      <td>130</td>\n",
       "      <td>250</td>\n",
       "      <td>0</td>\n",
       "      <td>1</td>\n",
       "      <td>187</td>\n",
       "      <td>0</td>\n",
       "      <td>3.5</td>\n",
       "      <td>0</td>\n",
       "      <td>0</td>\n",
       "      <td>2</td>\n",
       "      <td>1</td>\n",
       "    </tr>\n",
       "    <tr>\n",
       "      <th>2</th>\n",
       "      <td>41</td>\n",
       "      <td>0</td>\n",
       "      <td>1</td>\n",
       "      <td>130</td>\n",
       "      <td>204</td>\n",
       "      <td>0</td>\n",
       "      <td>0</td>\n",
       "      <td>172</td>\n",
       "      <td>0</td>\n",
       "      <td>1.4</td>\n",
       "      <td>2</td>\n",
       "      <td>0</td>\n",
       "      <td>2</td>\n",
       "      <td>1</td>\n",
       "    </tr>\n",
       "    <tr>\n",
       "      <th>3</th>\n",
       "      <td>56</td>\n",
       "      <td>1</td>\n",
       "      <td>1</td>\n",
       "      <td>120</td>\n",
       "      <td>236</td>\n",
       "      <td>0</td>\n",
       "      <td>1</td>\n",
       "      <td>178</td>\n",
       "      <td>0</td>\n",
       "      <td>0.8</td>\n",
       "      <td>2</td>\n",
       "      <td>0</td>\n",
       "      <td>2</td>\n",
       "      <td>1</td>\n",
       "    </tr>\n",
       "    <tr>\n",
       "      <th>4</th>\n",
       "      <td>57</td>\n",
       "      <td>0</td>\n",
       "      <td>0</td>\n",
       "      <td>120</td>\n",
       "      <td>354</td>\n",
       "      <td>0</td>\n",
       "      <td>1</td>\n",
       "      <td>163</td>\n",
       "      <td>1</td>\n",
       "      <td>0.6</td>\n",
       "      <td>2</td>\n",
       "      <td>0</td>\n",
       "      <td>2</td>\n",
       "      <td>1</td>\n",
       "    </tr>\n",
       "  </tbody>\n",
       "</table>\n",
       "</div>"
      ],
      "text/plain": [
       "   age  sex  cp  trtbps  chol  fbs  restecg  thalachh  exng  oldpeak  slp  \\\n",
       "0   63    1   3     145   233    1        0       150     0      2.3    0   \n",
       "1   37    1   2     130   250    0        1       187     0      3.5    0   \n",
       "2   41    0   1     130   204    0        0       172     0      1.4    2   \n",
       "3   56    1   1     120   236    0        1       178     0      0.8    2   \n",
       "4   57    0   0     120   354    0        1       163     1      0.6    2   \n",
       "\n",
       "   caa  thall  output  \n",
       "0    0      1       1  \n",
       "1    0      2       1  \n",
       "2    0      2       1  \n",
       "3    0      2       1  \n",
       "4    0      2       1  "
      ]
     },
     "execution_count": 200,
     "metadata": {},
     "output_type": "execute_result"
    }
   ],
   "source": [
    "df=pd.read_csv(\"heart.csv\")\n",
    "df.head()"
   ]
  },
  {
   "cell_type": "markdown",
   "metadata": {},
   "source": [
    "age - age in years\n",
    "\n",
    "sex - sex (1 = male; 0 = female)\n",
    "\n",
    "cp - chest pain type (1 = typical angina; 2 = atypical angina; 3 = non-anginal pain; 4 = asymptomatic)\n",
    "\n",
    "trestbps - resting blood pressure (in mm Hg on admission to the hospital)\n",
    "\n",
    "chol - serum cholestoral in mg/dl\n",
    "\n",
    "fbs - fasting blood sugar > 120 mg/dl (1 = true; 0 = false)\n",
    "\n",
    "restecg - resting electrocardiographic results (0 = normal; 1 = having ST-T; 2 = hypertrophy)\n",
    "\n",
    "thalach - maximum heart rate achieved\n",
    "\n",
    "exang - exercise induced angina (1 = yes; 0 = no)\n",
    "\n",
    "oldpeak - ST depression induced by exercise relative to rest\n",
    "\n",
    "slope - the slope of the peak exercise ST segment (1 = upsloping; 2 = flat; 3 = downsloping)\n",
    "\n",
    "ca - number of major vessels (0-3) colored by flourosopy\n",
    "\n",
    "thal(thallium stress)- 0 to 3\n",
    "\n",
    "output- 0(less chance of heart attack) and 1(more chance of heart attack)"
   ]
  },
  {
   "cell_type": "code",
   "execution_count": 201,
   "metadata": {},
   "outputs": [
    {
     "name": "stdout",
     "output_type": "stream",
     "text": [
      "<class 'pandas.core.frame.DataFrame'>\n",
      "RangeIndex: 303 entries, 0 to 302\n",
      "Data columns (total 14 columns):\n",
      "age         303 non-null int64\n",
      "sex         303 non-null int64\n",
      "cp          303 non-null int64\n",
      "trtbps      303 non-null int64\n",
      "chol        303 non-null int64\n",
      "fbs         303 non-null int64\n",
      "restecg     303 non-null int64\n",
      "thalachh    303 non-null int64\n",
      "exng        303 non-null int64\n",
      "oldpeak     303 non-null float64\n",
      "slp         303 non-null int64\n",
      "caa         303 non-null int64\n",
      "thall       303 non-null int64\n",
      "output      303 non-null int64\n",
      "dtypes: float64(1), int64(13)\n",
      "memory usage: 33.2 KB\n"
     ]
    }
   ],
   "source": [
    "df.info()"
   ]
  },
  {
   "cell_type": "code",
   "execution_count": 202,
   "metadata": {},
   "outputs": [
    {
     "data": {
      "text/plain": [
       "(303, 14)"
      ]
     },
     "execution_count": 202,
     "metadata": {},
     "output_type": "execute_result"
    }
   ],
   "source": [
    "df.shape "
   ]
  },
  {
   "cell_type": "code",
   "execution_count": 203,
   "metadata": {},
   "outputs": [
    {
     "name": "stdout",
     "output_type": "stream",
     "text": [
      "output\n",
      "0    138\n",
      "1    165\n",
      "dtype: int64\n"
     ]
    }
   ],
   "source": [
    "print(df.groupby('output').size()) "
   ]
  },
  {
   "cell_type": "code",
   "execution_count": 204,
   "metadata": {},
   "outputs": [
    {
     "data": {
      "text/plain": [
       "<matplotlib.axes._subplots.AxesSubplot at 0x1a3a913e668>"
      ]
     },
     "execution_count": 204,
     "metadata": {},
     "output_type": "execute_result"
    },
    {
     "data": {
      "image/png": "[encoded data removed]",
      "text/plain": [
       "<Figure size 432x288 with 1 Axes>"
      ]
     },
     "metadata": {
      "needs_background": "light"
     },
     "output_type": "display_data"
    }
   ],
   "source": [
    "import seaborn as sns\n",
    "sns.countplot(df['output'],label=\"Count\")"
   ]
  },
  {
   "cell_type": "markdown",
   "metadata": {},
   "source": [
    "## Data Preprocessing"
   ]
  },
  {
   "cell_type": "code",
   "execution_count": 205,
   "metadata": {},
   "outputs": [
    {
     "data": {
      "text/plain": [
       "age         0\n",
       "sex         0\n",
       "cp          0\n",
       "trtbps      0\n",
       "chol        0\n",
       "fbs         0\n",
       "restecg     0\n",
       "thalachh    0\n",
       "exng        0\n",
       "oldpeak     0\n",
       "slp         0\n",
       "caa         0\n",
       "thall       0\n",
       "output      0\n",
       "dtype: int64"
      ]
     },
     "execution_count": 205,
     "metadata": {},
     "output_type": "execute_result"
    }
   ],
   "source": [
    "df.isnull().sum()"
   ]
  },
  {
   "cell_type": "code",
   "execution_count": 206,
   "metadata": {},
   "outputs": [
    {
     "data": {
      "text/plain": [
       "age           0\n",
       "sex          96\n",
       "cp          143\n",
       "trtbps        0\n",
       "chol          0\n",
       "fbs         258\n",
       "restecg     147\n",
       "thalachh      0\n",
       "exng        204\n",
       "oldpeak      99\n",
       "slp          21\n",
       "caa         175\n",
       "thall         2\n",
       "output      138\n",
       "dtype: int64"
      ]
     },
     "execution_count": 206,
     "metadata": {},
     "output_type": "execute_result"
    }
   ],
   "source": [
    "df.eq(0).sum()"
   ]
  },
  {
   "cell_type": "code",
   "execution_count": 207,
   "metadata": {},
   "outputs": [
    {
     "name": "stdout",
     "output_type": "stream",
     "text": [
      "Duplicated Lines:1\n"
     ]
    }
   ],
   "source": [
    "dups=df.duplicated()\n",
    "print(\"Duplicated Lines:%d\" % dups.sum())"
   ]
  },
  {
   "cell_type": "code",
   "execution_count": 208,
   "metadata": {},
   "outputs": [],
   "source": [
    "df.drop_duplicates(inplace=True)"
   ]
  },
  {
   "cell_type": "code",
   "execution_count": 209,
   "metadata": {},
   "outputs": [
    {
     "data": {
      "text/plain": [
       "(302, 14)"
      ]
     },
     "execution_count": 209,
     "metadata": {},
     "output_type": "execute_result"
    }
   ],
   "source": [
    "df.shape "
   ]
  },
  {
   "cell_type": "markdown",
   "metadata": {},
   "source": [
    "## Outliers"
   ]
  },
  {
   "cell_type": "code",
   "execution_count": 210,
   "metadata": {},
   "outputs": [
    {
     "data": {
      "text/plain": [
       "<matplotlib.axes._subplots.AxesSubplot at 0x1a3a923b748>"
      ]
     },
     "execution_count": 210,
     "metadata": {},
     "output_type": "execute_result"
    },
    {
     "data": {
      "image/png": "[encoded data removed]",
      "text/plain": [
       "<Figure size 432x288 with 1 Axes>"
      ]
     },
     "metadata": {
      "needs_background": "light"
     },
     "output_type": "display_data"
    }
   ],
   "source": [
    "sns.boxplot(data=df,x=df['trtbps'])"
   ]
  },
  {
   "cell_type": "code",
   "execution_count": 211,
   "metadata": {},
   "outputs": [
    {
     "name": "stdout",
     "output_type": "stream",
     "text": [
      "120.0\n",
      "140.0\n",
      "20.0\n",
      "90.0 170.0\n"
     ]
    }
   ],
   "source": [
    "Q1=df['trtbps'].quantile(0.25)\n",
    "Q3=df['trtbps'].quantile(0.75)\n",
    "IQR=Q3-Q1\n",
    "print(Q1)\n",
    "print(Q3)\n",
    "print(IQR)\n",
    "Lower_Whisker = Q1-(1.5)*IQR\n",
    "Upper_Whisker = Q3+(1.5)*IQR\n",
    "print(Lower_Whisker, Upper_Whisker)"
   ]
  },
  {
   "cell_type": "code",
   "execution_count": 212,
   "metadata": {},
   "outputs": [],
   "source": [
    "df = df[df['trtbps']< Upper_Whisker]"
   ]
  },
  {
   "cell_type": "code",
   "execution_count": 213,
   "metadata": {},
   "outputs": [
    {
     "data": {
      "text/plain": [
       "<matplotlib.axes._subplots.AxesSubplot at 0x1a3a929a198>"
      ]
     },
     "execution_count": 213,
     "metadata": {},
     "output_type": "execute_result"
    },
    {
     "data": {
      "image/png": "[encoded data removed]",
      "text/plain": [
       "<Figure size 432x288 with 1 Axes>"
      ]
     },
     "metadata": {
      "needs_background": "light"
     },
     "output_type": "display_data"
    }
   ],
   "source": [
    "sns.boxplot(data=df,x=df['trtbps'])"
   ]
  },
  {
   "cell_type": "code",
   "execution_count": 214,
   "metadata": {},
   "outputs": [
    {
     "data": {
      "text/plain": [
       "<matplotlib.axes._subplots.AxesSubplot at 0x1a3a92ec2b0>"
      ]
     },
     "execution_count": 214,
     "metadata": {},
     "output_type": "execute_result"
    },
    {
     "data": {
      "image/png": "[encoded data removed]",
      "text/plain": [
       "<Figure size 432x288 with 1 Axes>"
      ]
     },
     "metadata": {
      "needs_background": "light"
     },
     "output_type": "display_data"
    }
   ],
   "source": [
    "sns.boxplot(data=df,x=df['chol'])"
   ]
  },
  {
   "cell_type": "code",
   "execution_count": 215,
   "metadata": {},
   "outputs": [
    {
     "name": "stdout",
     "output_type": "stream",
     "text": [
      "211.0\n",
      "273.0\n",
      "62.0\n",
      "118.0 366.0\n"
     ]
    }
   ],
   "source": [
    "Q1=df['chol'].quantile(0.25)\n",
    "Q3=df['chol'].quantile(0.75)\n",
    "IQR=Q3-Q1\n",
    "print(Q1)\n",
    "print(Q3)\n",
    "print(IQR)\n",
    "Lower_Whisker = Q1-(1.5)*IQR\n",
    "Upper_Whisker = Q3+(1.5)*IQR\n",
    "print(Lower_Whisker, Upper_Whisker)"
   ]
  },
  {
   "cell_type": "code",
   "execution_count": 216,
   "metadata": {},
   "outputs": [],
   "source": [
    "df = df[df['chol']< Upper_Whisker]"
   ]
  },
  {
   "cell_type": "code",
   "execution_count": 217,
   "metadata": {},
   "outputs": [
    {
     "data": {
      "text/plain": [
       "<matplotlib.axes._subplots.AxesSubplot at 0x1a3a933e6d8>"
      ]
     },
     "execution_count": 217,
     "metadata": {},
     "output_type": "execute_result"
    },
    {
     "data": {
      "image/png": "[encoded data removed]",
      "text/plain": [
       "<Figure size 432x288 with 1 Axes>"
      ]
     },
     "metadata": {
      "needs_background": "light"
     },
     "output_type": "display_data"
    }
   ],
   "source": [
    "sns.boxplot(data=df,x=df['chol'])"
   ]
  },
  {
   "cell_type": "code",
   "execution_count": 218,
   "metadata": {},
   "outputs": [
    {
     "data": {
      "text/plain": [
       "<matplotlib.axes._subplots.AxesSubplot at 0x1a3a93a1b00>"
      ]
     },
     "execution_count": 218,
     "metadata": {},
     "output_type": "execute_result"
    },
    {
     "data": {
      "image/png": "[encoded data removed]",
      "text/plain": [
       "<Figure size 432x288 with 1 Axes>"
      ]
     },
     "metadata": {
      "needs_background": "light"
     },
     "output_type": "display_data"
    }
   ],
   "source": [
    "sns.boxplot(data=df,x=df['thalachh'])"
   ]
  },
  {
   "cell_type": "code",
   "execution_count": 219,
   "metadata": {},
   "outputs": [
    {
     "name": "stdout",
     "output_type": "stream",
     "text": [
      "132.0\n",
      "168.0\n",
      "36.0\n",
      "78.0 222.0\n"
     ]
    }
   ],
   "source": [
    "Q1=df['thalachh'].quantile(0.25)\n",
    "Q3=df['thalachh'].quantile(0.75)\n",
    "IQR=Q3-Q1\n",
    "print(Q1)\n",
    "print(Q3)\n",
    "print(IQR)\n",
    "Lower_Whisker = Q1-(1.5)*IQR\n",
    "Upper_Whisker = Q3+(1.5)*IQR\n",
    "print(Lower_Whisker, Upper_Whisker)"
   ]
  },
  {
   "cell_type": "code",
   "execution_count": 220,
   "metadata": {},
   "outputs": [],
   "source": [
    "df = df[df['thalachh'] > Lower_Whisker]"
   ]
  },
  {
   "cell_type": "code",
   "execution_count": 221,
   "metadata": {},
   "outputs": [
    {
     "data": {
      "text/plain": [
       "<matplotlib.axes._subplots.AxesSubplot at 0x1a3a93e3f28>"
      ]
     },
     "execution_count": 221,
     "metadata": {},
     "output_type": "execute_result"
    },
    {
     "data": {
      "image/png": "[encoded data removed]",
      "text/plain": [
       "<Figure size 432x288 with 1 Axes>"
      ]
     },
     "metadata": {
      "needs_background": "light"
     },
     "output_type": "display_data"
    }
   ],
   "source": [
    "sns.boxplot(data=df,x=df['thalachh'])"
   ]
  },
  {
   "cell_type": "code",
   "execution_count": 222,
   "metadata": {},
   "outputs": [
    {
     "data": {
      "text/plain": [
       "<matplotlib.axes._subplots.AxesSubplot at 0x1a3aa412da0>"
      ]
     },
     "execution_count": 222,
     "metadata": {},
     "output_type": "execute_result"
    },
    {
     "data": {
      "image/png": "[encoded data removed]",
      "text/plain": [
       "<Figure size 432x288 with 1 Axes>"
      ]
     },
     "metadata": {
      "needs_background": "light"
     },
     "output_type": "display_data"
    }
   ],
   "source": [
    "sns.boxplot(data=df,x=df['oldpeak'])"
   ]
  },
  {
   "cell_type": "code",
   "execution_count": 223,
   "metadata": {},
   "outputs": [
    {
     "name": "stdout",
     "output_type": "stream",
     "text": [
      "0.0\n",
      "1.6\n",
      "1.6\n",
      "-2.4000000000000004 4.0\n"
     ]
    }
   ],
   "source": [
    "Q1=df['oldpeak'].quantile(0.25)\n",
    "Q3=df['oldpeak'].quantile(0.75)\n",
    "IQR=Q3-Q1\n",
    "print(Q1)\n",
    "print(Q3)\n",
    "print(IQR)\n",
    "Lower_Whisker = Q1-(1.5)*IQR\n",
    "Upper_Whisker = Q3+(1.5)*IQR\n",
    "print(Lower_Whisker, Upper_Whisker)"
   ]
  },
  {
   "cell_type": "code",
   "execution_count": 224,
   "metadata": {},
   "outputs": [],
   "source": [
    "df = df[df['oldpeak']< Upper_Whisker]"
   ]
  },
  {
   "cell_type": "code",
   "execution_count": 225,
   "metadata": {},
   "outputs": [
    {
     "data": {
      "text/plain": [
       "<matplotlib.axes._subplots.AxesSubplot at 0x1a3aa464cc0>"
      ]
     },
     "execution_count": 225,
     "metadata": {},
     "output_type": "execute_result"
    },
    {
     "data": {
      "image/png": "[encoded data removed]",
      "text/plain": [
       "<Figure size 432x288 with 1 Axes>"
      ]
     },
     "metadata": {
      "needs_background": "light"
     },
     "output_type": "display_data"
    }
   ],
   "source": [
    "sns.boxplot(data=df,x=df['oldpeak'])"
   ]
  },
  {
   "cell_type": "code",
   "execution_count": 226,
   "metadata": {},
   "outputs": [
    {
     "data": {
      "text/plain": [
       "(278, 14)"
      ]
     },
     "execution_count": 226,
     "metadata": {},
     "output_type": "execute_result"
    }
   ],
   "source": [
    "df.shape"
   ]
  },
  {
   "cell_type": "code",
   "execution_count": 227,
   "metadata": {},
   "outputs": [
    {
     "data": {
      "text/html": [
       "<div>\n",
       "<style scoped>\n",
       "    .dataframe tbody tr th:only-of-type {\n",
       "        vertical-align: middle;\n",
       "    }\n",
       "\n",
       "    .dataframe tbody tr th {\n",
       "        vertical-align: top;\n",
       "    }\n",
       "\n",
       "    .dataframe thead th {\n",
       "        text-align: right;\n",
       "    }\n",
       "</style>\n",
       "<table border=\"1\" class=\"dataframe\">\n",
       "  <thead>\n",
       "    <tr style=\"text-align: right;\">\n",
       "      <th></th>\n",
       "      <th>age</th>\n",
       "      <th>sex</th>\n",
       "      <th>cp</th>\n",
       "      <th>trtbps</th>\n",
       "      <th>chol</th>\n",
       "      <th>fbs</th>\n",
       "      <th>restecg</th>\n",
       "      <th>thalachh</th>\n",
       "      <th>exng</th>\n",
       "      <th>oldpeak</th>\n",
       "      <th>slp</th>\n",
       "      <th>caa</th>\n",
       "      <th>thall</th>\n",
       "      <th>output</th>\n",
       "    </tr>\n",
       "  </thead>\n",
       "  <tbody>\n",
       "    <tr>\n",
       "      <th>age</th>\n",
       "      <td>1.000000</td>\n",
       "      <td>-0.070019</td>\n",
       "      <td>-0.064953</td>\n",
       "      <td>0.270962</td>\n",
       "      <td>0.174521</td>\n",
       "      <td>0.109485</td>\n",
       "      <td>-0.098790</td>\n",
       "      <td>-0.413243</td>\n",
       "      <td>0.089023</td>\n",
       "      <td>0.201811</td>\n",
       "      <td>-0.145321</td>\n",
       "      <td>0.323962</td>\n",
       "      <td>0.047242</td>\n",
       "      <td>-0.219182</td>\n",
       "    </tr>\n",
       "    <tr>\n",
       "      <th>sex</th>\n",
       "      <td>-0.070019</td>\n",
       "      <td>1.000000</td>\n",
       "      <td>-0.103820</td>\n",
       "      <td>0.001950</td>\n",
       "      <td>-0.131447</td>\n",
       "      <td>0.085358</td>\n",
       "      <td>-0.080609</td>\n",
       "      <td>-0.044088</td>\n",
       "      <td>0.190694</td>\n",
       "      <td>0.163677</td>\n",
       "      <td>-0.058465</td>\n",
       "      <td>0.161788</td>\n",
       "      <td>0.226661</td>\n",
       "      <td>-0.324870</td>\n",
       "    </tr>\n",
       "    <tr>\n",
       "      <th>cp</th>\n",
       "      <td>-0.064953</td>\n",
       "      <td>-0.103820</td>\n",
       "      <td>1.000000</td>\n",
       "      <td>0.071822</td>\n",
       "      <td>-0.086831</td>\n",
       "      <td>0.098570</td>\n",
       "      <td>0.087063</td>\n",
       "      <td>0.283859</td>\n",
       "      <td>-0.376185</td>\n",
       "      <td>-0.095885</td>\n",
       "      <td>0.101905</td>\n",
       "      <td>-0.159726</td>\n",
       "      <td>-0.201820</td>\n",
       "      <td>0.418650</td>\n",
       "    </tr>\n",
       "    <tr>\n",
       "      <th>trtbps</th>\n",
       "      <td>0.270962</td>\n",
       "      <td>0.001950</td>\n",
       "      <td>0.071822</td>\n",
       "      <td>1.000000</td>\n",
       "      <td>0.104316</td>\n",
       "      <td>0.124292</td>\n",
       "      <td>-0.104823</td>\n",
       "      <td>-0.074902</td>\n",
       "      <td>-0.017655</td>\n",
       "      <td>0.117640</td>\n",
       "      <td>-0.045914</td>\n",
       "      <td>0.116596</td>\n",
       "      <td>-0.028289</td>\n",
       "      <td>-0.095389</td>\n",
       "    </tr>\n",
       "    <tr>\n",
       "      <th>chol</th>\n",
       "      <td>0.174521</td>\n",
       "      <td>-0.131447</td>\n",
       "      <td>-0.086831</td>\n",
       "      <td>0.104316</td>\n",
       "      <td>1.000000</td>\n",
       "      <td>0.018763</td>\n",
       "      <td>-0.141803</td>\n",
       "      <td>-0.020022</td>\n",
       "      <td>0.078791</td>\n",
       "      <td>-0.008052</td>\n",
       "      <td>0.061752</td>\n",
       "      <td>0.097049</td>\n",
       "      <td>0.085810</td>\n",
       "      <td>-0.101654</td>\n",
       "    </tr>\n",
       "    <tr>\n",
       "      <th>fbs</th>\n",
       "      <td>0.109485</td>\n",
       "      <td>0.085358</td>\n",
       "      <td>0.098570</td>\n",
       "      <td>0.124292</td>\n",
       "      <td>0.018763</td>\n",
       "      <td>1.000000</td>\n",
       "      <td>-0.075945</td>\n",
       "      <td>-0.022363</td>\n",
       "      <td>-0.004580</td>\n",
       "      <td>0.005698</td>\n",
       "      <td>-0.069224</td>\n",
       "      <td>0.146617</td>\n",
       "      <td>-0.040532</td>\n",
       "      <td>-0.021418</td>\n",
       "    </tr>\n",
       "    <tr>\n",
       "      <th>restecg</th>\n",
       "      <td>-0.098790</td>\n",
       "      <td>-0.080609</td>\n",
       "      <td>0.087063</td>\n",
       "      <td>-0.104823</td>\n",
       "      <td>-0.141803</td>\n",
       "      <td>-0.075945</td>\n",
       "      <td>1.000000</td>\n",
       "      <td>0.089535</td>\n",
       "      <td>-0.095487</td>\n",
       "      <td>-0.069910</td>\n",
       "      <td>0.101156</td>\n",
       "      <td>-0.090841</td>\n",
       "      <td>0.045007</td>\n",
       "      <td>0.161421</td>\n",
       "    </tr>\n",
       "    <tr>\n",
       "      <th>thalachh</th>\n",
       "      <td>-0.413243</td>\n",
       "      <td>-0.044088</td>\n",
       "      <td>0.283859</td>\n",
       "      <td>-0.074902</td>\n",
       "      <td>-0.020022</td>\n",
       "      <td>-0.022363</td>\n",
       "      <td>0.089535</td>\n",
       "      <td>1.000000</td>\n",
       "      <td>-0.387107</td>\n",
       "      <td>-0.344067</td>\n",
       "      <td>0.380673</td>\n",
       "      <td>-0.253913</td>\n",
       "      <td>-0.115956</td>\n",
       "      <td>0.424766</td>\n",
       "    </tr>\n",
       "    <tr>\n",
       "      <th>exng</th>\n",
       "      <td>0.089023</td>\n",
       "      <td>0.190694</td>\n",
       "      <td>-0.376185</td>\n",
       "      <td>-0.017655</td>\n",
       "      <td>0.078791</td>\n",
       "      <td>-0.004580</td>\n",
       "      <td>-0.095487</td>\n",
       "      <td>-0.387107</td>\n",
       "      <td>1.000000</td>\n",
       "      <td>0.292178</td>\n",
       "      <td>-0.259133</td>\n",
       "      <td>0.123029</td>\n",
       "      <td>0.213880</td>\n",
       "      <td>-0.424547</td>\n",
       "    </tr>\n",
       "    <tr>\n",
       "      <th>oldpeak</th>\n",
       "      <td>0.201811</td>\n",
       "      <td>0.163677</td>\n",
       "      <td>-0.095885</td>\n",
       "      <td>0.117640</td>\n",
       "      <td>-0.008052</td>\n",
       "      <td>0.005698</td>\n",
       "      <td>-0.069910</td>\n",
       "      <td>-0.344067</td>\n",
       "      <td>0.292178</td>\n",
       "      <td>1.000000</td>\n",
       "      <td>-0.538529</td>\n",
       "      <td>0.166906</td>\n",
       "      <td>0.195579</td>\n",
       "      <td>-0.425726</td>\n",
       "    </tr>\n",
       "    <tr>\n",
       "      <th>slp</th>\n",
       "      <td>-0.145321</td>\n",
       "      <td>-0.058465</td>\n",
       "      <td>0.101905</td>\n",
       "      <td>-0.045914</td>\n",
       "      <td>0.061752</td>\n",
       "      <td>-0.069224</td>\n",
       "      <td>0.101156</td>\n",
       "      <td>0.380673</td>\n",
       "      <td>-0.259133</td>\n",
       "      <td>-0.538529</td>\n",
       "      <td>1.000000</td>\n",
       "      <td>-0.067655</td>\n",
       "      <td>-0.082674</td>\n",
       "      <td>0.325294</td>\n",
       "    </tr>\n",
       "    <tr>\n",
       "      <th>caa</th>\n",
       "      <td>0.323962</td>\n",
       "      <td>0.161788</td>\n",
       "      <td>-0.159726</td>\n",
       "      <td>0.116596</td>\n",
       "      <td>0.097049</td>\n",
       "      <td>0.146617</td>\n",
       "      <td>-0.090841</td>\n",
       "      <td>-0.253913</td>\n",
       "      <td>0.123029</td>\n",
       "      <td>0.166906</td>\n",
       "      <td>-0.067655</td>\n",
       "      <td>1.000000</td>\n",
       "      <td>0.174173</td>\n",
       "      <td>-0.398254</td>\n",
       "    </tr>\n",
       "    <tr>\n",
       "      <th>thall</th>\n",
       "      <td>0.047242</td>\n",
       "      <td>0.226661</td>\n",
       "      <td>-0.201820</td>\n",
       "      <td>-0.028289</td>\n",
       "      <td>0.085810</td>\n",
       "      <td>-0.040532</td>\n",
       "      <td>0.045007</td>\n",
       "      <td>-0.115956</td>\n",
       "      <td>0.213880</td>\n",
       "      <td>0.195579</td>\n",
       "      <td>-0.082674</td>\n",
       "      <td>0.174173</td>\n",
       "      <td>1.000000</td>\n",
       "      <td>-0.357331</td>\n",
       "    </tr>\n",
       "    <tr>\n",
       "      <th>output</th>\n",
       "      <td>-0.219182</td>\n",
       "      <td>-0.324870</td>\n",
       "      <td>0.418650</td>\n",
       "      <td>-0.095389</td>\n",
       "      <td>-0.101654</td>\n",
       "      <td>-0.021418</td>\n",
       "      <td>0.161421</td>\n",
       "      <td>0.424766</td>\n",
       "      <td>-0.424547</td>\n",
       "      <td>-0.425726</td>\n",
       "      <td>0.325294</td>\n",
       "      <td>-0.398254</td>\n",
       "      <td>-0.357331</td>\n",
       "      <td>1.000000</td>\n",
       "    </tr>\n",
       "  </tbody>\n",
       "</table>\n",
       "</div>"
      ],
      "text/plain": [
       "               age       sex        cp    trtbps      chol       fbs  \\\n",
       "age       1.000000 -0.070019 -0.064953  0.270962  0.174521  0.109485   \n",
       "sex      -0.070019  1.000000 -0.103820  0.001950 -0.131447  0.085358   \n",
       "cp       -0.064953 -0.103820  1.000000  0.071822 -0.086831  0.098570   \n",
       "trtbps    0.270962  0.001950  0.071822  1.000000  0.104316  0.124292   \n",
       "chol      0.174521 -0.131447 -0.086831  0.104316  1.000000  0.018763   \n",
       "fbs       0.109485  0.085358  0.098570  0.124292  0.018763  1.000000   \n",
       "restecg  -0.098790 -0.080609  0.087063 -0.104823 -0.141803 -0.075945   \n",
       "thalachh -0.413243 -0.044088  0.283859 -0.074902 -0.020022 -0.022363   \n",
       "exng      0.089023  0.190694 -0.376185 -0.017655  0.078791 -0.004580   \n",
       "oldpeak   0.201811  0.163677 -0.095885  0.117640 -0.008052  0.005698   \n",
       "slp      -0.145321 -0.058465  0.101905 -0.045914  0.061752 -0.069224   \n",
       "caa       0.323962  0.161788 -0.159726  0.116596  0.097049  0.146617   \n",
       "thall     0.047242  0.226661 -0.201820 -0.028289  0.085810 -0.040532   \n",
       "output   -0.219182 -0.324870  0.418650 -0.095389 -0.101654 -0.021418   \n",
       "\n",
       "           restecg  thalachh      exng   oldpeak       slp       caa  \\\n",
       "age      -0.098790 -0.413243  0.089023  0.201811 -0.145321  0.323962   \n",
       "sex      -0.080609 -0.044088  0.190694  0.163677 -0.058465  0.161788   \n",
       "cp        0.087063  0.283859 -0.376185 -0.095885  0.101905 -0.159726   \n",
       "trtbps   -0.104823 -0.074902 -0.017655  0.117640 -0.045914  0.116596   \n",
       "chol     -0.141803 -0.020022  0.078791 -0.008052  0.061752  0.097049   \n",
       "fbs      -0.075945 -0.022363 -0.004580  0.005698 -0.069224  0.146617   \n",
       "restecg   1.000000  0.089535 -0.095487 -0.069910  0.101156 -0.090841   \n",
       "thalachh  0.089535  1.000000 -0.387107 -0.344067  0.380673 -0.253913   \n",
       "exng     -0.095487 -0.387107  1.000000  0.292178 -0.259133  0.123029   \n",
       "oldpeak  -0.069910 -0.344067  0.292178  1.000000 -0.538529  0.166906   \n",
       "slp       0.101156  0.380673 -0.259133 -0.538529  1.000000 -0.067655   \n",
       "caa      -0.090841 -0.253913  0.123029  0.166906 -0.067655  1.000000   \n",
       "thall     0.045007 -0.115956  0.213880  0.195579 -0.082674  0.174173   \n",
       "output    0.161421  0.424766 -0.424547 -0.425726  0.325294 -0.398254   \n",
       "\n",
       "             thall    output  \n",
       "age       0.047242 -0.219182  \n",
       "sex       0.226661 -0.324870  \n",
       "cp       -0.201820  0.418650  \n",
       "trtbps   -0.028289 -0.095389  \n",
       "chol      0.085810 -0.101654  \n",
       "fbs      -0.040532 -0.021418  \n",
       "restecg   0.045007  0.161421  \n",
       "thalachh -0.115956  0.424766  \n",
       "exng      0.213880 -0.424547  \n",
       "oldpeak   0.195579 -0.425726  \n",
       "slp      -0.082674  0.325294  \n",
       "caa       0.174173 -0.398254  \n",
       "thall     1.000000 -0.357331  \n",
       "output   -0.357331  1.000000  "
      ]
     },
     "execution_count": 227,
     "metadata": {},
     "output_type": "execute_result"
    }
   ],
   "source": [
    "df.corr()"
   ]
  },
  {
   "cell_type": "code",
   "execution_count": 228,
   "metadata": {},
   "outputs": [
    {
     "data": {
      "image/png": "[encoded data removed]",
      "text/plain": [
       "<Figure size 720x576 with 2 Axes>"
      ]
     },
     "metadata": {
      "needs_background": "light"
     },
     "output_type": "display_data"
    }
   ],
   "source": [
    "colormap = plt.cm.RdBu\n",
    "plt.figure(figsize=(10,8))\n",
    "sns.heatmap(df.corr())\n",
    "plt.show()"
   ]
  },
  {
   "cell_type": "code",
   "execution_count": 229,
   "metadata": {},
   "outputs": [],
   "source": [
    "Output = pd.DataFrame(df.corr()['output'].sort_values(ascending=False))"
   ]
  },
  {
   "cell_type": "code",
   "execution_count": 230,
   "metadata": {},
   "outputs": [
    {
     "data": {
      "text/plain": [
       "<matplotlib.axes._subplots.AxesSubplot at 0x1a3aa46d8d0>"
      ]
     },
     "execution_count": 230,
     "metadata": {},
     "output_type": "execute_result"
    },
    {
     "data": {
      "image/png": "[encoded data removed]",
      "text/plain": [
       "<Figure size 432x288 with 2 Axes>"
      ]
     },
     "metadata": {
      "needs_background": "light"
     },
     "output_type": "display_data"
    }
   ],
   "source": [
    "sns.heatmap(Output)"
   ]
  },
  {
   "cell_type": "markdown",
   "metadata": {},
   "source": [
    "## Test Data Split and Standard Scaling"
   ]
  },
  {
   "cell_type": "code",
   "execution_count": 231,
   "metadata": {},
   "outputs": [],
   "source": [
    "from sklearn.model_selection import train_test_split"
   ]
  },
  {
   "cell_type": "code",
   "execution_count": 232,
   "metadata": {},
   "outputs": [],
   "source": [
    "X = df.iloc[:,:-1]\n",
    "y = df.iloc[:,-1:]"
   ]
  },
  {
   "cell_type": "code",
   "execution_count": 233,
   "metadata": {},
   "outputs": [],
   "source": [
    "X_train, X_test, y_train, y_test = train_test_split(X,y, test_size=0.3, random_state=66)"
   ]
  },
  {
   "cell_type": "code",
   "execution_count": 234,
   "metadata": {},
   "outputs": [
    {
     "name": "stderr",
     "output_type": "stream",
     "text": [
      "C:\\Users\\EGEMEN\\Anaconda3\\lib\\site-packages\\sklearn\\preprocessing\\data.py:645: DataConversionWarning: Data with input dtype int64, float64 were all converted to float64 by StandardScaler.\n",
      "  return self.partial_fit(X, y)\n",
      "C:\\Users\\EGEMEN\\Anaconda3\\lib\\site-packages\\sklearn\\base.py:464: DataConversionWarning: Data with input dtype int64, float64 were all converted to float64 by StandardScaler.\n",
      "  return self.fit(X, **fit_params).transform(X)\n",
      "C:\\Users\\EGEMEN\\Anaconda3\\lib\\site-packages\\ipykernel_launcher.py:4: DataConversionWarning: Data with input dtype int64, float64 were all converted to float64 by StandardScaler.\n",
      "  after removing the cwd from sys.path.\n"
     ]
    }
   ],
   "source": [
    "from sklearn.preprocessing import StandardScaler\n",
    "scaler = StandardScaler()\n",
    "X_train_raw = scaler.fit_transform(X_train)\n",
    "X_test_raw = scaler.transform(X_test)\n",
    "\n",
    "X_train = pd.DataFrame(X_train_raw, columns=X_train.columns, index=X_train.index)\n",
    "X_test = pd.DataFrame(X_test_raw, columns=X_test.columns, index=X_test.index)"
   ]
  },
  {
   "cell_type": "markdown",
   "metadata": {},
   "source": [
    "## Modeling and Prediction"
   ]
  },
  {
   "cell_type": "code",
   "execution_count": 235,
   "metadata": {},
   "outputs": [],
   "source": [
    "from sklearn.linear_model import LogisticRegression\n",
    "from sklearn.svm import SVC\n",
    "from sklearn.metrics import accuracy_score\n",
    "from sklearn.metrics import confusion_matrix ,classification_report,accuracy_score,recall_score,precision_score,f1_score"
   ]
  },
  {
   "cell_type": "markdown",
   "metadata": {},
   "source": [
    "### Logistic Regression"
   ]
  },
  {
   "cell_type": "code",
   "execution_count": 236,
   "metadata": {},
   "outputs": [],
   "source": [
    "lr = LogisticRegression()\n",
    "#lr.fit(X_train, y_train.values.ravel()) # ravel() : 1d - array transform\n",
    "lr = LogisticRegression(solver='lbfgs',random_state=66,C=1).fit(X_train, y_train.values.ravel())"
   ]
  },
  {
   "cell_type": "code",
   "execution_count": 237,
   "metadata": {},
   "outputs": [
    {
     "name": "stdout",
     "output_type": "stream",
     "text": [
      "Training set accuracy: 0.85567\n",
      "Test set accuracy    : 0.84524\n"
     ]
    }
   ],
   "source": [
    "print(\"Training set accuracy: {:.5f}\".format(lr.score(X_train, y_train)))\n",
    "print(\"Test set accuracy    : {:.5f}\".format(lr.score(X_test, y_test)))"
   ]
  },
  {
   "cell_type": "code",
   "execution_count": 238,
   "metadata": {},
   "outputs": [
    {
     "data": {
      "text/plain": [
       "array([[28, 11],\n",
       "       [ 2, 43]], dtype=int64)"
      ]
     },
     "execution_count": 238,
     "metadata": {},
     "output_type": "execute_result"
    }
   ],
   "source": [
    "y_pred_lr = lr.predict(X_test)\n",
    "confusion_matrix(y_pred=y_pred_lr,y_true=y_test)"
   ]
  },
  {
   "cell_type": "code",
   "execution_count": 239,
   "metadata": {},
   "outputs": [
    {
     "name": "stdout",
     "output_type": "stream",
     "text": [
      "Model Accuracy      : 0.84524\n",
      "Recall Score        : 0.95556\n",
      "Precision Score     : 0.79630\n",
      "F1 Score            : 0.86869\n"
     ]
    }
   ],
   "source": [
    "print(\"Model Accuracy      : {:.5f}\".format(accuracy_score(y_pred=y_pred_lr,y_true=y_test)))\n",
    "print(\"Recall Score        : {:.5f}\".format(recall_score(y_pred=y_pred_lr,y_true=y_test)))\n",
    "print(\"Precision Score     : {:.5f}\".format(precision_score(y_pred=y_pred_lr,y_true=y_test)))\n",
    "print(\"F1 Score            : {:.5f}\".format(f1_score(y_pred=y_pred_lr,y_true=y_test)))"
   ]
  },
  {
   "cell_type": "markdown",
   "metadata": {},
   "source": [
    "### Support Vector Machine"
   ]
  },
  {
   "cell_type": "code",
   "execution_count": 240,
   "metadata": {},
   "outputs": [
    {
     "name": "stdout",
     "output_type": "stream",
     "text": [
      "Training set accuracy: 0.93814\n",
      "Test set accuracy    : 0.84524\n"
     ]
    }
   ],
   "source": [
    "svc = SVC(gamma='scale',random_state=66)\n",
    "svc.fit(X_train, y_train.values.ravel())\n",
    "print(\"Training set accuracy: {:.5f}\".format(svc.score(X_train, y_train)))\n",
    "print(\"Test set accuracy    : {:.5f}\".format(svc.score(X_test, y_test)))"
   ]
  },
  {
   "cell_type": "code",
   "execution_count": 241,
   "metadata": {},
   "outputs": [
    {
     "data": {
      "text/plain": [
       "array([[28, 11],\n",
       "       [ 2, 43]], dtype=int64)"
      ]
     },
     "execution_count": 241,
     "metadata": {},
     "output_type": "execute_result"
    }
   ],
   "source": [
    "y_pred_svm=svc.predict(X_test)\n",
    "confusion_matrix(y_pred=y_pred_svm,y_true=y_test)"
   ]
  },
  {
   "cell_type": "code",
   "execution_count": 242,
   "metadata": {},
   "outputs": [
    {
     "name": "stdout",
     "output_type": "stream",
     "text": [
      "Model Accuracy      : 0.84524\n",
      "Recall Score        : 0.95556\n",
      "Precision Score     : 0.79630\n",
      "F1 Score            : 0.86869\n"
     ]
    }
   ],
   "source": [
    "print(\"Model Accuracy      : {:.5f}\".format(accuracy_score(y_pred=y_pred_svm,y_true=y_test)))\n",
    "print(\"Recall Score        : {:.5f}\".format(recall_score(y_pred=y_pred_svm,y_true=y_test)))\n",
    "print(\"Precision Score     : {:.5f}\".format(precision_score(y_pred=y_pred_svm,y_true=y_test)))\n",
    "print(\"F1 Score            : {:.5f}\".format(f1_score(y_pred=y_pred_svm,y_true=y_test)))"
   ]
  },
  {
   "cell_type": "markdown",
   "metadata": {},
   "source": [
    "## ROC Curve"
   ]
  },
  {
   "cell_type": "code",
   "execution_count": 243,
   "metadata": {},
   "outputs": [
    {
     "data": {
      "image/png": "[encoded data removed]",
      "text/plain": [
       "<Figure size 500x500 with 1 Axes>"
      ]
     },
     "metadata": {
      "needs_background": "light"
     },
     "output_type": "display_data"
    }
   ],
   "source": [
    "from sklearn.metrics import roc_curve, auc\n",
    "\n",
    "logistic_fpr, logistic_tpr, threshold = roc_curve(y_test, y_pred_lr)\n",
    "auc_logistic = auc(logistic_fpr, logistic_tpr)\n",
    "\n",
    "svm_fpr, svm_tpr, threshold = roc_curve(y_test, y_pred_svm)\n",
    "auc_svm = auc(svm_fpr, svm_tpr)\n",
    "\n",
    "plt.figure(figsize=(5, 5), dpi=100)\n",
    "\n",
    "plt.plot(logistic_fpr, logistic_tpr, marker='.', label='Lojistik Regresyon (auc = %0.5f)' % auc_logistic)\n",
    "plt.plot(svm_fpr, svm_tpr, linestyle='-', label='Destek Vektör Makineleri (auc = %0.5f)' % auc_svm)\n",
    "\n",
    "\n",
    "plt.xlabel('False Positive Rate -->')\n",
    "plt.ylabel('True Positive Rate -->')\n",
    "\n",
    "plt.legend()\n",
    "\n",
    "plt.show()"
   ]
  },
  {
   "cell_type": "markdown",
   "metadata": {},
   "source": [
    "#### Save Model and Testing"
   ]
  },
  {
   "cell_type": "code",
   "execution_count": 250,
   "metadata": {},
   "outputs": [
    {
     "name": "stderr",
     "output_type": "stream",
     "text": [
      "C:\\Users\\EGEMEN\\Anaconda3\\lib\\site-packages\\sklearn\\utils\\validation.py:761: DataConversionWarning: A column-vector y was passed when a 1d array was expected. Please change the shape of y to (n_samples, ), for example using ravel().\n",
      "  y = column_or_1d(y, warn=True)\n",
      "C:\\Users\\EGEMEN\\Anaconda3\\lib\\site-packages\\sklearn\\linear_model\\logistic.py:758: ConvergenceWarning: lbfgs failed to converge. Increase the number of iterations.\n",
      "  \"of iterations.\", ConvergenceWarning)\n"
     ]
    }
   ],
   "source": [
    "import pickle\n",
    "lr.fit(X,y)\n",
    "filename=\"lr_model\"\n",
    "pickle.dump(lr,open(filename,'wb'))"
   ]
  },
  {
   "cell_type": "code",
   "execution_count": 251,
   "metadata": {},
   "outputs": [],
   "source": [
    "lr_model=pickle.load(open(filename,'rb'))"
   ]
  },
  {
   "cell_type": "code",
   "execution_count": 252,
   "metadata": {},
   "outputs": [],
   "source": [
    "prediction=lr_model.predict([[25,1,2,140,220,1,0,150,0,2.4,0,0,2]])"
   ]
  },
  {
   "cell_type": "code",
   "execution_count": 253,
   "metadata": {},
   "outputs": [
    {
     "data": {
      "text/plain": [
       "array([0], dtype=int64)"
      ]
     },
     "execution_count": 253,
     "metadata": {},
     "output_type": "execute_result"
    }
   ],
   "source": [
    "prediction"
   ]
  },
  {
   "cell_type": "code",
   "execution_count": null,
   "metadata": {},
   "outputs": [],
   "source": []
  },
  {
   "cell_type": "code",
   "execution_count": null,
   "metadata": {},
   "outputs": [],
   "source": []
  }
 ],
 "metadata": {
  "kernelspec": {
   "display_name": "Python 3",
   "language": "python",
   "name": "python3"
  },
  "language_info": {
   "codemirror_mode": {
    "name": "ipython",
    "version": 3
   },
   "file_extension": ".py",
   "mimetype": "text/x-python",
   "name": "python",
   "nbconvert_exporter": "python",
   "pygments_lexer": "ipython3",
   "version": "3.7.3"
  }
 },
 "nbformat": 4,
 "nbformat_minor": 2
}
